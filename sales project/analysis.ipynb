{
 "cells": [
  {
   "cell_type": "code",
   "execution_count": 1,
   "metadata": {},
   "outputs": [],
   "source": [
    "import numpy as np\n",
    "import pandas as pd \n",
    "import matplotlib.pyplot as mp\n",
    "%matplotlib inline\n",
    "import seaborn as sb\n"
   ]
  },
  {
   "cell_type": "code",
   "execution_count": 68,
   "metadata": {},
   "outputs": [],
   "source": [
    "#read the excel file\n",
    "df=pd.read_excel(r\"C:\\Users\\MUSKAN\\OneDrive\\Documents\\sales.xlsx\")"
   ]
  },
  {
   "cell_type": "code",
   "execution_count": 69,
   "metadata": {},
   "outputs": [
    {
     "data": {
      "text/html": [
       "<div>\n",
       "<style scoped>\n",
       "    .dataframe tbody tr th:only-of-type {\n",
       "        vertical-align: middle;\n",
       "    }\n",
       "\n",
       "    .dataframe tbody tr th {\n",
       "        vertical-align: top;\n",
       "    }\n",
       "\n",
       "    .dataframe thead th {\n",
       "        text-align: right;\n",
       "    }\n",
       "</style>\n",
       "<table border=\"1\" class=\"dataframe\">\n",
       "  <thead>\n",
       "    <tr style=\"text-align: right;\">\n",
       "      <th></th>\n",
       "      <th>Order-ID</th>\n",
       "      <th>Store-ID</th>\n",
       "      <th>Customer-ID</th>\n",
       "      <th>Payment-Method</th>\n",
       "      <th>Invoice-Value</th>\n",
       "      <th>Order-Date</th>\n",
       "      <th>Customer address</th>\n",
       "      <th>Membership date</th>\n",
       "      <th>Managers</th>\n",
       "      <th>Clusters</th>\n",
       "      <th>zip codes</th>\n",
       "      <th>Column1</th>\n",
       "    </tr>\n",
       "  </thead>\n",
       "  <tbody>\n",
       "    <tr>\n",
       "      <th>0</th>\n",
       "      <td>97612110049P0057110032434664020</td>\n",
       "      <td>97612110049</td>\n",
       "      <td>P0057110032</td>\n",
       "      <td>Credit Card</td>\n",
       "      <td>656</td>\n",
       "      <td>2019-01-01</td>\n",
       "      <td>Preet Vihar</td>\n",
       "      <td>2016-06-04</td>\n",
       "      <td>Saanvi Rawat</td>\n",
       "      <td>2</td>\n",
       "      <td>110052</td>\n",
       "      <td>2019</td>\n",
       "    </tr>\n",
       "    <tr>\n",
       "      <th>1</th>\n",
       "      <td>18563110017S0049110017434909927</td>\n",
       "      <td>18563110017</td>\n",
       "      <td>S0049110017</td>\n",
       "      <td>UPI</td>\n",
       "      <td>378</td>\n",
       "      <td>2019-01-25</td>\n",
       "      <td>Saket</td>\n",
       "      <td>2019-01-25</td>\n",
       "      <td>Pranav Iyer</td>\n",
       "      <td>5</td>\n",
       "      <td>110017</td>\n",
       "      <td>2019</td>\n",
       "    </tr>\n",
       "    <tr>\n",
       "      <th>2</th>\n",
       "      <td>69885110036T0066110026438482406</td>\n",
       "      <td>69885110036</td>\n",
       "      <td>T0066110026</td>\n",
       "      <td>Debit Card</td>\n",
       "      <td>872</td>\n",
       "      <td>2020-01-18</td>\n",
       "      <td>Tilak Nagar</td>\n",
       "      <td>2014-07-09</td>\n",
       "      <td>Shruti Trivedi</td>\n",
       "      <td>5</td>\n",
       "      <td>110051</td>\n",
       "      <td>2020</td>\n",
       "    </tr>\n",
       "    <tr>\n",
       "      <th>3</th>\n",
       "      <td>67709110046R0080110027441971644</td>\n",
       "      <td>67709110046</td>\n",
       "      <td>R0080110027</td>\n",
       "      <td>UPI</td>\n",
       "      <td>233</td>\n",
       "      <td>2021-01-01</td>\n",
       "      <td>Rajouri Garden</td>\n",
       "      <td>1998-01-15</td>\n",
       "      <td>Vivaan Jain</td>\n",
       "      <td>6</td>\n",
       "      <td>110022</td>\n",
       "      <td>2021</td>\n",
       "    </tr>\n",
       "    <tr>\n",
       "      <th>4</th>\n",
       "      <td>62475110033D0070110022453217243</td>\n",
       "      <td>62475110033</td>\n",
       "      <td>D0070110022</td>\n",
       "      <td>Credit Card</td>\n",
       "      <td>741</td>\n",
       "      <td>2024-01-30</td>\n",
       "      <td>Dwarka</td>\n",
       "      <td>2009-11-28</td>\n",
       "      <td>Natasha Sharma</td>\n",
       "      <td>5</td>\n",
       "      <td>110029</td>\n",
       "      <td>2024</td>\n",
       "    </tr>\n",
       "    <tr>\n",
       "      <th>5</th>\n",
       "      <td>32639110005K0080110019453206969</td>\n",
       "      <td>32639110005</td>\n",
       "      <td>K0080110019</td>\n",
       "      <td>Debit Card</td>\n",
       "      <td>563</td>\n",
       "      <td>2024-01-29</td>\n",
       "      <td>Kailash Colony</td>\n",
       "      <td>1994-11-22</td>\n",
       "      <td>Siddharth Verma</td>\n",
       "      <td>7</td>\n",
       "      <td>110028</td>\n",
       "      <td>2024</td>\n",
       "    </tr>\n",
       "    <tr>\n",
       "      <th>6</th>\n",
       "      <td>99146110018S0024110030453165054</td>\n",
       "      <td>99146110018</td>\n",
       "      <td>S0024110030</td>\n",
       "      <td>UPI</td>\n",
       "      <td>750</td>\n",
       "      <td>2024-01-25</td>\n",
       "      <td>Safdarjung Development Area</td>\n",
       "      <td>2019-09-21</td>\n",
       "      <td>Anika Khurana</td>\n",
       "      <td>2</td>\n",
       "      <td>110062</td>\n",
       "      <td>2024</td>\n",
       "    </tr>\n",
       "    <tr>\n",
       "      <th>7</th>\n",
       "      <td>90617110034B0017110006435224540</td>\n",
       "      <td>90617110034</td>\n",
       "      <td>B0017110006</td>\n",
       "      <td>COD</td>\n",
       "      <td>850</td>\n",
       "      <td>2019-02-26</td>\n",
       "      <td>Bara Hindu Rao</td>\n",
       "      <td>2019-02-10</td>\n",
       "      <td>Ananya Verma</td>\n",
       "      <td>5</td>\n",
       "      <td>110041</td>\n",
       "      <td>2019</td>\n",
       "    </tr>\n",
       "    <tr>\n",
       "      <th>8</th>\n",
       "      <td>56502110006G0005110046449624866</td>\n",
       "      <td>56502110006</td>\n",
       "      <td>G0005110046</td>\n",
       "      <td>Credit Card</td>\n",
       "      <td>33</td>\n",
       "      <td>2023-02-05</td>\n",
       "      <td>Ghazipur</td>\n",
       "      <td>2018-01-14</td>\n",
       "      <td>Vedant Saxena</td>\n",
       "      <td>4</td>\n",
       "      <td>110060</td>\n",
       "      <td>2023</td>\n",
       "    </tr>\n",
       "    <tr>\n",
       "      <th>9</th>\n",
       "      <td>80715110044C0116110003449615128</td>\n",
       "      <td>80715110044</td>\n",
       "      <td>C0116110003</td>\n",
       "      <td>Debit Card</td>\n",
       "      <td>418</td>\n",
       "      <td>2023-02-04</td>\n",
       "      <td>Civil Lines</td>\n",
       "      <td>2000-10-30</td>\n",
       "      <td>Arjun Singh</td>\n",
       "      <td>4</td>\n",
       "      <td>110032</td>\n",
       "      <td>2023</td>\n",
       "    </tr>\n",
       "  </tbody>\n",
       "</table>\n",
       "</div>"
      ],
      "text/plain": [
       "                          Order-ID     Store-ID  Customer-ID Payment-Method  \\\n",
       "0  97612110049P0057110032434664020  97612110049  P0057110032    Credit Card   \n",
       "1  18563110017S0049110017434909927  18563110017  S0049110017            UPI   \n",
       "2  69885110036T0066110026438482406  69885110036  T0066110026     Debit Card   \n",
       "3  67709110046R0080110027441971644  67709110046  R0080110027            UPI   \n",
       "4  62475110033D0070110022453217243  62475110033  D0070110022    Credit Card   \n",
       "5  32639110005K0080110019453206969  32639110005  K0080110019     Debit Card   \n",
       "6  99146110018S0024110030453165054  99146110018  S0024110030            UPI   \n",
       "7  90617110034B0017110006435224540  90617110034  B0017110006            COD   \n",
       "8  56502110006G0005110046449624866  56502110006  G0005110046    Credit Card   \n",
       "9  80715110044C0116110003449615128  80715110044  C0116110003     Debit Card   \n",
       "\n",
       "   Invoice-Value Order-Date             Customer address Membership date  \\\n",
       "0            656 2019-01-01                  Preet Vihar      2016-06-04   \n",
       "1            378 2019-01-25                        Saket      2019-01-25   \n",
       "2            872 2020-01-18                  Tilak Nagar      2014-07-09   \n",
       "3            233 2021-01-01               Rajouri Garden      1998-01-15   \n",
       "4            741 2024-01-30                       Dwarka      2009-11-28   \n",
       "5            563 2024-01-29               Kailash Colony      1994-11-22   \n",
       "6            750 2024-01-25  Safdarjung Development Area      2019-09-21   \n",
       "7            850 2019-02-26               Bara Hindu Rao      2019-02-10   \n",
       "8             33 2023-02-05                     Ghazipur      2018-01-14   \n",
       "9            418 2023-02-04                  Civil Lines      2000-10-30   \n",
       "\n",
       "          Managers  Clusters  zip codes  Column1  \n",
       "0     Saanvi Rawat         2     110052     2019  \n",
       "1      Pranav Iyer         5     110017     2019  \n",
       "2   Shruti Trivedi         5     110051     2020  \n",
       "3      Vivaan Jain         6     110022     2021  \n",
       "4   Natasha Sharma         5     110029     2024  \n",
       "5  Siddharth Verma         7     110028     2024  \n",
       "6    Anika Khurana         2     110062     2024  \n",
       "7     Ananya Verma         5     110041     2019  \n",
       "8    Vedant Saxena         4     110060     2023  \n",
       "9      Arjun Singh         4     110032     2023  "
      ]
     },
     "execution_count": 69,
     "metadata": {},
     "output_type": "execute_result"
    }
   ],
   "source": [
    "#display 10 rows of the dataframe\n",
    "df.head(10)"
   ]
  },
  {
   "cell_type": "code",
   "execution_count": 70,
   "metadata": {},
   "outputs": [
    {
     "name": "stdout",
     "output_type": "stream",
     "text": [
      "yearmonth\n",
      "2019-01    2868689\n",
      "2019-02    2502588\n",
      "2019-03    2869560\n",
      "2019-04    2854519\n",
      "2019-05    2938900\n",
      "            ...   \n",
      "2023-09    3955876\n",
      "2023-10    4152904\n",
      "2023-11    4055310\n",
      "2023-12    4252535\n",
      "2024-01    4152176\n",
      "Freq: M, Name: Invoice-Value, Length: 61, dtype: int64 yearmonth\n",
      "2019-01    5720\n",
      "2019-02    4979\n",
      "2019-03    5776\n",
      "2019-04    5584\n",
      "2019-05    5782\n",
      "           ... \n",
      "2023-09    7854\n",
      "2023-10    8238\n",
      "2023-11    7993\n",
      "2023-12    8308\n",
      "2024-01    8262\n",
      "Freq: M, Name: Order-ID, Length: 61, dtype: int64\n"
     ]
    }
   ],
   "source": [
    "#convert order-date to datetime\n",
    "df['Order-Date']=pd.to_datetime(df['Order-Date'])\n",
    "\n",
    "#extract year and month from order_date\n",
    "df['yearmonth']=df['Order-Date'].dt.to_period('M')\n",
    "\n",
    "#sum of invoice value according to the months\n",
    "monthly_sales=df.groupby('yearmonth')['Invoice-Value'].sum()\n",
    "\n",
    "#count of number of orderID in each month\n",
    "monthly_orders=df.groupby('yearmonth')['Order-ID'].count()\n",
    "\n",
    "print(monthly_sales,monthly_orders)"
   ]
  },
  {
   "cell_type": "code",
   "execution_count": 71,
   "metadata": {},
   "outputs": [
    {
     "data": {
      "image/png": "[encoded data removed]",
      "text/plain": [
       "<Figure size 640x480 with 1 Axes>"
      ]
     },
     "metadata": {},
     "output_type": "display_data"
    }
   ],
   "source": [
    "#Display of the bar plot of monthly sales\n",
    "monyhly_sales_plot=monthly_sales.plot(kind='bar')"
   ]
  },
  {
   "cell_type": "code",
   "execution_count": null,
   "metadata": {},
   "outputs": [],
   "source": [
    "#Display of the line chart of monthly orders\n",
    "monthly_orders_plot=monthly_orders.plot(kind='line')"
   ]
  },
  {
   "cell_type": "code",
   "execution_count": 9,
   "metadata": {},
   "outputs": [
    {
     "name": "stdout",
     "output_type": "stream",
     "text": [
      "2023-12 4252535 2019-02 2502588\n"
     ]
    }
   ],
   "source": [
    "#Month with maximum sales\n",
    "max_months=monthly_sales.idxmax()\n",
    "\n",
    "#Maximum sales in a month\n",
    "max_sales=monthly_sales.max()\n",
    "\n",
    "#Month with the minimum sales\n",
    "min_month=monthly_sales.idxmin()\n",
    "\n",
    "#Minimum sales in a month\n",
    "min_sales=monthly_sales.min()\n",
    "\n",
    "print(max_months,max_sales,min_month,min_sales)"
   ]
  },
  {
   "cell_type": "code",
   "execution_count": null,
   "metadata": {},
   "outputs": [],
   "source": [
    "#Sales of each cluster in a month\n",
    "cluster_sales=df.groupby(['Clusters','yearmonth'])['Invoice-Value'].sum()\n",
    "\n",
    "print(cluster_sales)"
   ]
  },
  {
   "cell_type": "code",
   "execution_count": null,
   "metadata": {},
   "outputs": [],
   "source": [
    "#Plotting chart of cluster sales\n",
    "cluster_sales_plot=cluster_sales.plot(kind='area',legend=bool)\n",
    "\n",
    "#add labels and titles\n",
    "mp.ylabel('sales')\n",
    "mp.title('cluster sales over the months')"
   ]
  },
  {
   "cell_type": "code",
   "execution_count": 72,
   "metadata": {},
   "outputs": [
    {
     "name": "stdout",
     "output_type": "stream",
     "text": [
      "Customer address\n",
      "Adarsh Nagar                   4655191\n",
      "Ashok Vihar                    3178605\n",
      "Bara Hindu Rao                 4584813\n",
      "Bawana                         4235594\n",
      "Burari                         4411548\n",
      "Civil Lines                    5702574\n",
      "Connaught Place                3176773\n",
      "Darya Ganj                     5254679\n",
      "Dwarka                         4771166\n",
      "East of Kailash                4893657\n",
      "Ghazipur                       3183174\n",
      "Gokal Puri                     1710017\n",
      "Greater Kailash                4533201\n",
      "Green Park                     3151198\n",
      "Hauz Khas                      3830785\n",
      "Janakpuri                      4467916\n",
      "Jor Bagh                       3838689\n",
      "Kailash Colony                 4014736\n",
      "Kalkaji                        4247547\n",
      "Kamla Nagar                    5026470\n",
      "Karawal Nagar                  4890612\n",
      "Karol Bagh                     5780524\n",
      "Malviya Nagar                  4308840\n",
      "Mayur Vihar                    4136015\n",
      "Mundka                         4389782\n",
      "Najafgarh                      4007107\n",
      "Nand Nagri                     4436659\n",
      "Nangloi                        3851655\n",
      "Naraina                        5355068\n",
      "Narela                         3856268\n",
      "Paharganj                      4413784\n",
      "Patel Nagar                    4960768\n",
      "Pitampura                      3331756\n",
      "Preet Vihar                    3977609\n",
      "Punjabi Bagh                   4379064\n",
      "R.K. Puram                     5008306\n",
      "Rajinder Nagar                 4351243\n",
      "Rajouri Garden                 8483376\n",
      "Safdarjung Development Area    2582184\n",
      "Safdarjung Enclave             4565402\n",
      "Saket                          5312498\n",
      "Sarai Rohilla                  4237815\n",
      "Sarita Vihar                   3818342\n",
      "Shakti Nagar                   4146963\n",
      "Sonia Vihar                    4395112\n",
      "South Extension                4422886\n",
      "Tilak Nagar                    4027698\n",
      "Vasant Kunj                    4315237\n",
      "Vasant Vihar                   4747436\n",
      "Name: Invoice-Value, dtype: int64\n"
     ]
    }
   ],
   "source": [
    "##Sales of each customer in a particular location\n",
    "sales_by_location=df.groupby('Customer address')['Invoice-Value'].sum()\n",
    "\n",
    "print(sales_by_location)"
   ]
  },
  {
   "cell_type": "code",
   "execution_count": null,
   "metadata": {},
   "outputs": [],
   "source": [
    "#Revenue according to the payment method\n",
    "sales_by_paymentmethod=df.groupby('Payment-Method')['Invoice-Value'].sum()\n",
    "\n",
    "print(sales_by_paymentmethod)"
   ]
  },
  {
   "cell_type": "code",
   "execution_count": null,
   "metadata": {},
   "outputs": [],
   "source": [
    "#Maximum orders in a store\n",
    "max_orders_of_store=df.groupby('Store-ID')['Order-ID'].count()\n",
    "print(max_orders_of_store.max())"
   ]
  },
  {
   "cell_type": "code",
   "execution_count": null,
   "metadata": {},
   "outputs": [],
   "source": [
    "#Number of customers in zipcodes\n",
    "customer_in_zipcode=df.groupby('zip codes')['Customer-ID'].count()\n",
    "\n",
    "print(customer_in_zipcode)"
   ]
  },
  {
   "cell_type": "code",
   "execution_count": null,
   "metadata": {},
   "outputs": [],
   "source": [
    "\n",
    "#Gives the descriptive statistics of the dataframe\n",
    "desc_stats=df.describe()\n",
    "\n",
    "print(desc_stats)"
   ]
  },
  {
   "cell_type": "code",
   "execution_count": null,
   "metadata": {},
   "outputs": [],
   "source": [
    "#percentage change in the monthly sales \n",
    "growthrate=monthly_sales.pct_change()*100\n",
    "\n",
    "print(growthrate)"
   ]
  },
  {
   "cell_type": "code",
   "execution_count": null,
   "metadata": {},
   "outputs": [
    {
     "name": "stdout",
     "output_type": "stream",
     "text": [
      "Customer-ID\n",
      "N0048110042    70671\n",
      "J0060110018    70250\n",
      "R0093110011    70139\n",
      "P0051110032    69355\n",
      "K0018110019    69266\n",
      "Name: Invoice-Value, dtype: int64\n"
     ]
    }
   ],
   "source": [
    "#Sum of Invoice value of customers\n",
    "top_customer=df.groupby('Customer-ID')['Invoice-Value'].sum()\n",
    "\n",
    "#Top 5 customers with highest sales value\n",
    "print(top_customer.sort_values(ascending=False).head(5))"
   ]
  },
  {
   "cell_type": "code",
   "execution_count": null,
   "metadata": {},
   "outputs": [
    {
     "name": "stdout",
     "output_type": "stream",
     "text": [
      "Store-ID\n",
      "90617110034    4404615\n",
      "99146110018    4388757\n",
      "33693110041    4383443\n",
      "59338110025    4369609\n",
      "20575110039    4368420\n",
      "Name: Invoice-Value, dtype: int64\n"
     ]
    }
   ],
   "source": [
    "#Sum of invoice value of different stores\n",
    "top_stores=df.groupby('Store-ID')['Invoice-Value'].sum()\n",
    "\n",
    "#Top 5 stores with highest sales\n",
    "print(top_stores.sort_values(ascending=False).head(5))"
   ]
  },
  {
   "cell_type": "code",
   "execution_count": null,
   "metadata": {},
   "outputs": [
    {
     "name": "stdout",
     "output_type": "stream",
     "text": [
      "504.97223057169566\n"
     ]
    }
   ],
   "source": [
    "#Average of orders received\n",
    "avg_order=df['Invoice-Value'].mean()\n",
    "print(avg_order)"
   ]
  },
  {
   "cell_type": "code",
   "execution_count": null,
   "metadata": {},
   "outputs": [
    {
     "name": "stdout",
     "output_type": "stream",
     "text": [
      "Managers\n",
      "Aaliyah Chopra      3818342\n",
      "Aanya Srinivasan    4315237\n",
      "Aarav Sharma        3176773\n",
      "Aarush Kumar        4655191\n",
      "Aditya Khanna       4146963\n",
      "Advait Mishra       4565402\n",
      "Advaita Menon       4389782\n",
      "Aisha Singh         4467916\n",
      "Akshara Gupta       4893657\n",
      "Ananya Verma        4584813\n",
      "Anika Khurana       2582184\n",
      "Anvi Nanda          1710017\n",
      "Arjun Bansal        3856268\n",
      "Arjun Singh         5702574\n",
      "Arnav Reddy         4747436\n",
      "Aryan Choudhury     4351243\n",
      "Avni Sharma         4007107\n",
      "Dev Patel           5008306\n",
      "Diya Reddy          4960768\n",
      "Esha Joshi          5355068\n",
      "Ishita Das          4235594\n",
      "Kabir Kapoor        4422886\n",
      "Kabir Malhotra      3851655\n",
      "Kavya Patel         5254679\n",
      "Krish Nair          3151198\n",
      "Kriti Patel         4411548\n",
      "Maya Desai          4379064\n",
      "Meera Agrawal       4247547\n",
      "Naina Joshi         4237815\n",
      "Natasha Sharma      4771166\n",
      "Neha Bhatia         4395112\n",
      "Neil Varma          4533201\n",
      "Pooja Mehta         3830785\n",
      "Pranav Iyer         5312498\n",
      "Rishi Mehrotra      4308840\n",
      "Riya Kapoor         5780524\n",
      "Riya Thakur         3331756\n",
      "Rohan Shukla        4436659\n",
      "Rohit Mehra         5026470\n",
      "Saanvi Rawat        3977609\n",
      "Shiv Mehra          4890612\n",
      "Shruti Trivedi      4027698\n",
      "Siddharth Verma     4014736\n",
      "Vedant Saxena       3183174\n",
      "Vikram Malhotra     4413784\n",
      "Vir Kapoor          3178605\n",
      "Vivaan Jain         8483376\n",
      "Yuvraj Chauhan      4136015\n",
      "Zara Khan           3838689\n",
      "Name: Invoice-Value, dtype: int64\n"
     ]
    }
   ],
   "source": [
    "#Sales achieved by managers\n",
    "sale_of_managers=df.groupby('Managers')['Invoice-Value'].sum()\n",
    "\n",
    "print(sale_of_managers)"
   ]
  },
  {
   "cell_type": "code",
   "execution_count": null,
   "metadata": {},
   "outputs": [
    {
     "name": "stdout",
     "output_type": "stream",
     "text": [
      "-0.0007692665202146542\n"
     ]
    }
   ],
   "source": [
    "\n",
    "#correlation between zipcodes and sales\n",
    "correlation=df['zip codes'].corr(df['Invoice-Value'])\n",
    "\n",
    "print(correlation)"
   ]
  },
  {
   "cell_type": "code",
   "execution_count": 73,
   "metadata": {},
   "outputs": [
    {
     "name": "stdout",
     "output_type": "stream",
     "text": [
      "Membership date\n",
      "1982-01-22    56968\n",
      "1982-05-15    48153\n",
      "1982-11-12    51088\n",
      "1983-04-11    50668\n",
      "1983-04-18    48541\n",
      "              ...  \n",
      "2024-01-09      396\n",
      "2024-01-10      337\n",
      "2024-01-13     1722\n",
      "2024-01-17      196\n",
      "2024-01-29      316\n",
      "Name: Invoice-Value, Length: 3877, dtype: int64\n"
     ]
    }
   ],
   "source": [
    "\n",
    "\n",
    "#sales on membership dates\n",
    "sm=df.groupby('Membership date')['Invoice-Value'].sum()\n",
    "print(sm)"
   ]
  },
  {
   "cell_type": "code",
   "execution_count": 74,
   "metadata": {},
   "outputs": [
    {
     "name": "stdout",
     "output_type": "stream",
     "text": [
      "weekdays\n",
      "0    30523388\n",
      "1    30491114\n",
      "2    30481236\n",
      "3    30202535\n",
      "4    30535045\n",
      "5    30422187\n",
      "6    30702837\n",
      "Name: Invoice-Value, dtype: int64\n"
     ]
    }
   ],
   "source": [
    "## extract weekdays from the order date\n",
    "df['weekdays']=df['Order-Date'].dt.weekday\n",
    "\n",
    "#Sum of invoice value on weekdays\n",
    "weekday_sales=df.groupby('weekdays')['Invoice-Value'].sum()\n",
    "\n",
    "print(weekday_sales)\n"
   ]
  },
  {
   "cell_type": "code",
   "execution_count": null,
   "metadata": {},
   "outputs": [],
   "source": [
    "#create a plot of weekday sales\n",
    "weekdays_plot=weekday_sales.plot(kind='line',ylabel='sales in Cr',title='Sales in the weekdays')"
   ]
  },
  {
   "cell_type": "code",
   "execution_count": null,
   "metadata": {},
   "outputs": [],
   "source": [
    "df['Invoice-Value']=pd.to_numeric(df['Invoice-Value'])"
   ]
  },
  {
   "cell_type": "code",
   "execution_count": null,
   "metadata": {},
   "outputs": [],
   "source": [
    "bins=[0,500,1000,10000]\n",
    "group=['low purchasing power','moderate purchasing power','high purchasing power']\n",
    "df['Invoice-Value']=pd.cut(df['Invoice-Value'],bins=bins,labels=group)\n",
    "print(df)\n"
   ]
  }
 ],
 "metadata": {
  "kernelspec": {
   "display_name": "Python 3",
   "language": "python",
   "name": "python3"
  },
  "language_info": {
   "codemirror_mode": {
    "name": "ipython",
    "version": 3
   },
   "file_extension": ".py",
   "mimetype": "text/x-python",
   "name": "python",
   "nbconvert_exporter": "python",
   "pygments_lexer": "ipython3",
   "version": "3.12.4"
  }
 },
 "nbformat": 4,
 "nbformat_minor": 2
}
